{
 "cells": [
  {
   "cell_type": "code",
   "execution_count": 1,
   "metadata": {},
   "outputs": [],
   "source": [
    "import pandas as pd\n",
    "import numpy as np"
   ]
  },
  {
   "cell_type": "code",
   "execution_count": 2,
   "metadata": {},
   "outputs": [],
   "source": [
    "# Activities are the class labels\n",
    "# It is a 6 class classification\n",
    "ACTIVITIES = {\n",
    "    0: 'WALKING',\n",
    "    1: 'WALKING_UPSTAIRS',\n",
    "    2: 'WALKING_DOWNSTAIRS',\n",
    "    3: 'SITTING',\n",
    "    4: 'STANDING',\n",
    "    5: 'LAYING',\n",
    "}\n",
    "\n",
    "# Utility function to print the confusion matrix\n",
    "def confusion_matrix(Y_true, Y_pred):\n",
    "    Y_true = pd.Series([ACTIVITIES[y] for y in np.argmax(Y_true, axis=1)])\n",
    "    Y_pred = pd.Series([ACTIVITIES[y] for y in np.argmax(Y_pred, axis=1)])\n",
    "\n",
    "    return pd.crosstab(Y_true, Y_pred, rownames=['True'], colnames=['Pred'])"
   ]
  },
  {
   "cell_type": "markdown",
   "metadata": {},
   "source": [
    "### Data"
   ]
  },
  {
   "cell_type": "code",
   "execution_count": 3,
   "metadata": {},
   "outputs": [],
   "source": [
    "# Data directory\n",
    "DATADIR = 'UCI_HAR_Dataset'"
   ]
  },
  {
   "cell_type": "code",
   "execution_count": 4,
   "metadata": {},
   "outputs": [],
   "source": [
    "# Raw data signals\n",
    "# Signals are from Accelerometer and Gyroscope\n",
    "# The signals are in x,y,z directions\n",
    "# Sensor signals are filtered to have only body acceleration\n",
    "# excluding the acceleration due to gravity\n",
    "# Triaxial acceleration from the accelerometer is total acceleration\n",
    "SIGNALS = [\n",
    "    \"body_acc_x\",\n",
    "    \"body_acc_y\",\n",
    "    \"body_acc_z\",\n",
    "    \"body_gyro_x\",\n",
    "    \"body_gyro_y\",\n",
    "    \"body_gyro_z\",\n",
    "    \"total_acc_x\",\n",
    "    \"total_acc_y\",\n",
    "    \"total_acc_z\"\n",
    "]"
   ]
  },
  {
   "cell_type": "code",
   "execution_count": 5,
   "metadata": {},
   "outputs": [],
   "source": [
    "# Utility function to read the data from csv file\n",
    "def _read_csv(filename):\n",
    "    return pd.read_csv(filename, delim_whitespace=True, header=None)\n",
    "\n",
    "# Utility function to load the load\n",
    "def load_signals(subset):\n",
    "    signals_data = []\n",
    "\n",
    "    for signal in SIGNALS:\n",
    "        filename = f'UCI_HAR_Dataset/{subset}/Inertial Signals/{signal}_{subset}.txt'\n",
    "        signals_data.append(\n",
    "            _read_csv(filename).as_matrix()\n",
    "        ) \n",
    "\n",
    "    # Transpose is used to change the dimensionality of the output,\n",
    "    # aggregating the signals by combination of sample/timestep.\n",
    "    # Resultant shape is (7352 train/2947 test samples, 128 timesteps, 9 signals)\n",
    "    return np.transpose(signals_data, (1, 2, 0))"
   ]
  },
  {
   "cell_type": "code",
   "execution_count": 6,
   "metadata": {},
   "outputs": [],
   "source": [
    "\n",
    "def load_y(subset):\n",
    "    \"\"\"\n",
    "    The objective that we are trying to predict is a integer, from 1 to 6,\n",
    "    that represents a human activity. We return a binary representation of \n",
    "    every sample objective as a 6 bits vector using One Hot Encoding\n",
    "    (https://pandas.pydata.org/pandas-docs/stable/generated/pandas.get_dummies.html)\n",
    "    \"\"\"\n",
    "    filename = f'UCI_HAR_Dataset/{subset}/y_{subset}.txt'\n",
    "    y = _read_csv(filename)[0]\n",
    "\n",
    "    return pd.get_dummies(y).as_matrix()"
   ]
  },
  {
   "cell_type": "code",
   "execution_count": 7,
   "metadata": {},
   "outputs": [],
   "source": [
    "def load_data():\n",
    "    \"\"\"\n",
    "    Obtain the dataset from multiple files.\n",
    "    Returns: X_train, X_test, y_train, y_test\n",
    "    \"\"\"\n",
    "    X_train, X_test = load_signals('train'), load_signals('test')\n",
    "    y_train, y_test = load_y('train'), load_y('test')\n",
    "\n",
    "    return X_train, X_test, y_train, y_test"
   ]
  },
  {
   "cell_type": "code",
   "execution_count": 8,
   "metadata": {},
   "outputs": [],
   "source": [
    "# Importing tensorflow\n",
    "np.random.seed(42)\n",
    "import tensorflow as tf\n",
    "tf.set_random_seed(42)"
   ]
  },
  {
   "cell_type": "code",
   "execution_count": 9,
   "metadata": {},
   "outputs": [],
   "source": [
    "# Configuring a session\n",
    "session_conf = tf.ConfigProto(\n",
    "    intra_op_parallelism_threads=1,\n",
    "    inter_op_parallelism_threads=1\n",
    ")"
   ]
  },
  {
   "cell_type": "code",
   "execution_count": 10,
   "metadata": {},
   "outputs": [
    {
     "name": "stderr",
     "output_type": "stream",
     "text": [
      "Using TensorFlow backend.\n"
     ]
    }
   ],
   "source": [
    "# Import Keras\n",
    "from keras import backend as K\n",
    "sess = tf.Session(graph=tf.get_default_graph(), config=session_conf)\n",
    "K.set_session(sess)"
   ]
  },
  {
   "cell_type": "code",
   "execution_count": 11,
   "metadata": {},
   "outputs": [],
   "source": [
    "# Importing libraries\n",
    "from keras.models import Sequential\n",
    "from keras.layers import LSTM\n",
    "from keras.layers.core import Dense, Dropout\n",
    "from keras.layers.normalization import BatchNormalization"
   ]
  },
  {
   "cell_type": "code",
   "execution_count": 12,
   "metadata": {},
   "outputs": [],
   "source": [
    "# Initializing parameters\n",
    "epochs = 30\n",
    "batch_size = 16\n",
    "n_hidden = 32"
   ]
  },
  {
   "cell_type": "code",
   "execution_count": 13,
   "metadata": {},
   "outputs": [],
   "source": [
    "# Utility function to count the number of classes\n",
    "def _count_classes(y):\n",
    "    return len(set([tuple(category) for category in y]))"
   ]
  },
  {
   "cell_type": "code",
   "execution_count": 14,
   "metadata": {},
   "outputs": [
    {
     "name": "stderr",
     "output_type": "stream",
     "text": [
      "C:\\Users\\mehul\\Anaconda3\\lib\\site-packages\\ipykernel_launcher.py:12: FutureWarning: Method .as_matrix will be removed in a future version. Use .values instead.\n",
      "  if sys.path[0] == '':\n",
      "C:\\Users\\mehul\\Anaconda3\\lib\\site-packages\\ipykernel_launcher.py:11: FutureWarning: Method .as_matrix will be removed in a future version. Use .values instead.\n",
      "  # This is added back by InteractiveShellApp.init_path()\n"
     ]
    }
   ],
   "source": [
    "# Loading the train and test data\n",
    "X_train, X_test, Y_train, Y_test = load_data()"
   ]
  },
  {
   "cell_type": "code",
   "execution_count": 15,
   "metadata": {},
   "outputs": [
    {
     "name": "stdout",
     "output_type": "stream",
     "text": [
      "128\n",
      "9\n",
      "7352\n"
     ]
    }
   ],
   "source": [
    "timesteps = len(X_train[0])\n",
    "input_dim = len(X_train[0][0])\n",
    "n_classes = _count_classes(Y_train)\n",
    "\n",
    "print(timesteps)\n",
    "print(input_dim)\n",
    "print(len(X_train))"
   ]
  },
  {
   "cell_type": "code",
   "execution_count": 16,
   "metadata": {},
   "outputs": [
    {
     "name": "stdout",
     "output_type": "stream",
     "text": [
      "WARNING:tensorflow:From C:\\Users\\mehul\\Anaconda3\\lib\\site-packages\\tensorflow\\python\\ops\\resource_variable_ops.py:435: colocate_with (from tensorflow.python.framework.ops) is deprecated and will be removed in a future version.\n",
      "Instructions for updating:\n",
      "Colocations handled automatically by placer.\n",
      "Model: \"sequential_1\"\n",
      "_________________________________________________________________\n",
      "Layer (type)                 Output Shape              Param #   \n",
      "=================================================================\n",
      "lstm_1 (LSTM)                (None, 32)                5376      \n",
      "_________________________________________________________________\n",
      "dropout_1 (Dropout)          (None, 32)                0         \n",
      "_________________________________________________________________\n",
      "dense_1 (Dense)              (None, 6)                 198       \n",
      "=================================================================\n",
      "Total params: 5,574\n",
      "Trainable params: 5,574\n",
      "Non-trainable params: 0\n",
      "_________________________________________________________________\n"
     ]
    }
   ],
   "source": [
    "# Initiliazing the sequential model\n",
    "model = Sequential()\n",
    "# Configuring the parameters\n",
    "model.add(LSTM(n_hidden, input_shape=(timesteps, input_dim)))\n",
    "# Adding a dropout layer\n",
    "model.add(Dropout(0.35))\n",
    "# Adding a dense output layer with sigmoid activation\n",
    "model.add(Dense(n_classes, activation='sigmoid'))\n",
    "model.summary()"
   ]
  },
  {
   "cell_type": "code",
   "execution_count": 17,
   "metadata": {},
   "outputs": [],
   "source": [
    "# Compiling the model\n",
    "model.compile(loss='categorical_crossentropy',\n",
    "              optimizer='rmsprop',\n",
    "              metrics=['accuracy'])"
   ]
  },
  {
   "cell_type": "code",
   "execution_count": 18,
   "metadata": {},
   "outputs": [
    {
     "name": "stdout",
     "output_type": "stream",
     "text": [
      "WARNING:tensorflow:From C:\\Users\\mehul\\Anaconda3\\lib\\site-packages\\tensorflow\\python\\ops\\math_ops.py:3066: to_int32 (from tensorflow.python.ops.math_ops) is deprecated and will be removed in a future version.\n",
      "Instructions for updating:\n",
      "Use tf.cast instead.\n",
      "Train on 7352 samples, validate on 2947 samples\n",
      "Epoch 1/30\n",
      "7352/7352 [==============================] - 28s 4ms/step - loss: 1.2673 - accuracy: 0.4593 - val_loss: 1.1013 - val_accuracy: 0.4299\n",
      "Epoch 2/30\n",
      "7352/7352 [==============================] - 30s 4ms/step - loss: 0.8819 - accuracy: 0.6143 - val_loss: 0.8139 - val_accuracy: 0.6081\n",
      "Epoch 3/30\n",
      "7352/7352 [==============================] - 22s 3ms/step - loss: 0.6964 - accuracy: 0.6663 - val_loss: 0.7094 - val_accuracy: 0.6356\n",
      "Epoch 4/30\n",
      "7352/7352 [==============================] - 23s 3ms/step - loss: 0.6188 - accuracy: 0.7172 - val_loss: 0.8541 - val_accuracy: 0.6807\n",
      "Epoch 5/30\n",
      "7352/7352 [==============================] - 28s 4ms/step - loss: 0.5292 - accuracy: 0.7743 - val_loss: 0.5581 - val_accuracy: 0.7526\n",
      "Epoch 6/30\n",
      "7352/7352 [==============================] - 22s 3ms/step - loss: 0.4683 - accuracy: 0.8013 - val_loss: 0.7517 - val_accuracy: 0.6749\n",
      "Epoch 7/30\n",
      "7352/7352 [==============================] - 20s 3ms/step - loss: 0.4305 - accuracy: 0.8191 - val_loss: 0.6101 - val_accuracy: 0.7760\n",
      "Epoch 8/30\n",
      "7352/7352 [==============================] - 22s 3ms/step - loss: 0.3578 - accuracy: 0.8721 - val_loss: 0.4073 - val_accuracy: 0.8704\n",
      "Epoch 9/30\n",
      "7352/7352 [==============================] - 23s 3ms/step - loss: 0.2711 - accuracy: 0.9135 - val_loss: 0.4844 - val_accuracy: 0.8619\n",
      "Epoch 10/30\n",
      "7352/7352 [==============================] - 31s 4ms/step - loss: 0.2380 - accuracy: 0.9234 - val_loss: 0.3734 - val_accuracy: 0.8843\n",
      "Epoch 11/30\n",
      "7352/7352 [==============================] - 23s 3ms/step - loss: 0.2046 - accuracy: 0.9328 - val_loss: 0.4845 - val_accuracy: 0.8724\n",
      "Epoch 12/30\n",
      "7352/7352 [==============================] - 25s 3ms/step - loss: 0.1895 - accuracy: 0.9382 - val_loss: 0.4069 - val_accuracy: 0.8884\n",
      "Epoch 13/30\n",
      "7352/7352 [==============================] - 23s 3ms/step - loss: 0.1856 - accuracy: 0.9378 - val_loss: 0.4498 - val_accuracy: 0.8911\n",
      "Epoch 14/30\n",
      "7352/7352 [==============================] - 22s 3ms/step - loss: 0.1863 - accuracy: 0.9414 - val_loss: 0.4354 - val_accuracy: 0.8856\n",
      "Epoch 15/30\n",
      "7352/7352 [==============================] - 21s 3ms/step - loss: 0.1688 - accuracy: 0.9418 - val_loss: 0.4429 - val_accuracy: 0.8962\n",
      "Epoch 16/30\n",
      "7352/7352 [==============================] - 21s 3ms/step - loss: 0.1664 - accuracy: 0.9414 - val_loss: 0.4751 - val_accuracy: 0.8907\n",
      "Epoch 17/30\n",
      "7352/7352 [==============================] - 20s 3ms/step - loss: 0.1800 - accuracy: 0.9423 - val_loss: 0.4848 - val_accuracy: 0.8809\n",
      "Epoch 18/30\n",
      "7352/7352 [==============================] - 20s 3ms/step - loss: 0.1590 - accuracy: 0.9463 - val_loss: 0.4242 - val_accuracy: 0.8985\n",
      "Epoch 19/30\n",
      "7352/7352 [==============================] - 23s 3ms/step - loss: 0.1605 - accuracy: 0.9444 - val_loss: 0.4302 - val_accuracy: 0.9002\n",
      "Epoch 20/30\n",
      "7352/7352 [==============================] - 23s 3ms/step - loss: 0.1455 - accuracy: 0.9476 - val_loss: 0.6898 - val_accuracy: 0.8595\n",
      "Epoch 21/30\n",
      "7352/7352 [==============================] - 21s 3ms/step - loss: 0.1586 - accuracy: 0.9470 - val_loss: 0.3743 - val_accuracy: 0.9023\n",
      "Epoch 22/30\n",
      "7352/7352 [==============================] - 19s 3ms/step - loss: 0.1471 - accuracy: 0.9494 - val_loss: 0.6766 - val_accuracy: 0.8744\n",
      "Epoch 23/30\n",
      "7352/7352 [==============================] - 19s 3ms/step - loss: 0.1508 - accuracy: 0.9471 - val_loss: 0.4464 - val_accuracy: 0.9060\n",
      "Epoch 24/30\n",
      "7352/7352 [==============================] - 20s 3ms/step - loss: 0.1514 - accuracy: 0.9491 - val_loss: 0.4387 - val_accuracy: 0.9040\n",
      "Epoch 25/30\n",
      "7352/7352 [==============================] - 19s 3ms/step - loss: 0.1615 - accuracy: 0.9470 - val_loss: 0.5982 - val_accuracy: 0.8829\n",
      "Epoch 26/30\n",
      "7352/7352 [==============================] - 19s 3ms/step - loss: 0.1428 - accuracy: 0.9521 - val_loss: 0.6218 - val_accuracy: 0.8833\n",
      "Epoch 27/30\n",
      "7352/7352 [==============================] - 19s 3ms/step - loss: 0.1375 - accuracy: 0.9512 - val_loss: 0.4903 - val_accuracy: 0.9040\n",
      "Epoch 28/30\n",
      "7352/7352 [==============================] - 19s 3ms/step - loss: 0.1492 - accuracy: 0.9494 - val_loss: 0.4039 - val_accuracy: 0.9067\n",
      "Epoch 29/30\n",
      "7352/7352 [==============================] - 19s 3ms/step - loss: 0.1354 - accuracy: 0.9527 - val_loss: 0.4630 - val_accuracy: 0.8965\n",
      "Epoch 30/30\n",
      "7352/7352 [==============================] - 20s 3ms/step - loss: 0.1347 - accuracy: 0.9499 - val_loss: 0.5676 - val_accuracy: 0.8962\n"
     ]
    },
    {
     "data": {
      "text/plain": [
       "<keras.callbacks.callbacks.History at 0x208df79d608>"
      ]
     },
     "execution_count": 18,
     "metadata": {},
     "output_type": "execute_result"
    }
   ],
   "source": [
    "# Training the model\n",
    "model.fit(X_train,\n",
    "          Y_train,\n",
    "          batch_size=batch_size,\n",
    "          validation_data=(X_test, Y_test),\n",
    "          epochs=epochs)"
   ]
  },
  {
   "cell_type": "code",
   "execution_count": 19,
   "metadata": {},
   "outputs": [
    {
     "name": "stdout",
     "output_type": "stream",
     "text": [
      "2947/2947 [==============================] - 1s 348us/step\n"
     ]
    }
   ],
   "source": [
    "score = model.evaluate(X_test, Y_test)"
   ]
  },
  {
   "cell_type": "code",
   "execution_count": 20,
   "metadata": {},
   "outputs": [
    {
     "data": {
      "text/plain": [
       "[0.5675782593524505, 0.8961656093597412]"
      ]
     },
     "execution_count": 20,
     "metadata": {},
     "output_type": "execute_result"
    }
   ],
   "source": [
    "score"
   ]
  },
  {
   "cell_type": "markdown",
   "metadata": {},
   "source": [
    "<h3> Adding Batch Normalization Layer</h3>"
   ]
  },
  {
   "cell_type": "code",
   "execution_count": 21,
   "metadata": {},
   "outputs": [],
   "source": [
    "# Initializing parameters\n",
    "epochs = 30\n",
    "batch_size = 32\n",
    "n_hidden = 128"
   ]
  },
  {
   "cell_type": "code",
   "execution_count": 22,
   "metadata": {},
   "outputs": [
    {
     "name": "stdout",
     "output_type": "stream",
     "text": [
      "Model: \"sequential_2\"\n",
      "_________________________________________________________________\n",
      "Layer (type)                 Output Shape              Param #   \n",
      "=================================================================\n",
      "lstm_2 (LSTM)                (None, 128)               70656     \n",
      "_________________________________________________________________\n",
      "batch_normalization_1 (Batch (None, 128)               512       \n",
      "_________________________________________________________________\n",
      "dropout_2 (Dropout)          (None, 128)               0         \n",
      "_________________________________________________________________\n",
      "dense_2 (Dense)              (None, 6)                 774       \n",
      "=================================================================\n",
      "Total params: 71,942\n",
      "Trainable params: 71,686\n",
      "Non-trainable params: 256\n",
      "_________________________________________________________________\n"
     ]
    }
   ],
   "source": [
    "# Initiliazing the sequential model\n",
    "model = Sequential()\n",
    "# Configuring the parameters\n",
    "model.add(LSTM(n_hidden, input_shape=(timesteps, input_dim)))\n",
    "model.add(BatchNormalization())\n",
    "# Adding a dropout layer\n",
    "model.add(Dropout(0.2))\n",
    "# Adding a dense output layer with sigmoid activation\n",
    "model.add(Dense(n_classes, activation='sigmoid'))\n",
    "model.summary()"
   ]
  },
  {
   "cell_type": "code",
   "execution_count": 23,
   "metadata": {},
   "outputs": [],
   "source": [
    "# Compiling the model\n",
    "model.compile(loss='categorical_crossentropy',\n",
    "              optimizer='rmsprop',\n",
    "              metrics=['accuracy'])"
   ]
  },
  {
   "cell_type": "code",
   "execution_count": 24,
   "metadata": {},
   "outputs": [
    {
     "name": "stdout",
     "output_type": "stream",
     "text": [
      "Train on 7352 samples, validate on 2947 samples\n",
      "Epoch 1/30\n",
      "7352/7352 [==============================] - 38s 5ms/step - loss: 0.9519 - accuracy: 0.6115 - val_loss: 0.9941 - val_accuracy: 0.5826\n",
      "Epoch 2/30\n",
      "7352/7352 [==============================] - 39s 5ms/step - loss: 0.7203 - accuracy: 0.6746 - val_loss: 1.0063 - val_accuracy: 0.5273\n",
      "Epoch 3/30\n",
      "7352/7352 [==============================] - 38s 5ms/step - loss: 0.5729 - accuracy: 0.7625 - val_loss: 1.1097 - val_accuracy: 0.6980\n",
      "Epoch 4/30\n",
      "7352/7352 [==============================] - 37s 5ms/step - loss: 0.3475 - accuracy: 0.8828 - val_loss: 0.3394 - val_accuracy: 0.8921\n",
      "Epoch 5/30\n",
      "7352/7352 [==============================] - 38s 5ms/step - loss: 0.2114 - accuracy: 0.9245 - val_loss: 0.3632 - val_accuracy: 0.8907\n",
      "Epoch 6/30\n",
      "7352/7352 [==============================] - 38s 5ms/step - loss: 0.1769 - accuracy: 0.9321 - val_loss: 0.3514 - val_accuracy: 0.8962\n",
      "Epoch 7/30\n",
      "7352/7352 [==============================] - 37s 5ms/step - loss: 0.1579 - accuracy: 0.9393 - val_loss: 0.3287 - val_accuracy: 0.9036\n",
      "Epoch 8/30\n",
      "7352/7352 [==============================] - 38s 5ms/step - loss: 0.1789 - accuracy: 0.9343 - val_loss: 0.3140 - val_accuracy: 0.8928\n",
      "Epoch 9/30\n",
      "7352/7352 [==============================] - 37s 5ms/step - loss: 0.1426 - accuracy: 0.9412 - val_loss: 0.2868 - val_accuracy: 0.9006\n",
      "Epoch 10/30\n",
      "7352/7352 [==============================] - 37s 5ms/step - loss: 0.1490 - accuracy: 0.9450 - val_loss: 0.3076 - val_accuracy: 0.9050\n",
      "Epoch 11/30\n",
      "7352/7352 [==============================] - 38s 5ms/step - loss: 0.1316 - accuracy: 0.9494 - val_loss: 0.4743 - val_accuracy: 0.8792\n",
      "Epoch 12/30\n",
      "7352/7352 [==============================] - 37s 5ms/step - loss: 0.1326 - accuracy: 0.9499 - val_loss: 0.2775 - val_accuracy: 0.9148\n",
      "Epoch 13/30\n",
      "7352/7352 [==============================] - 37s 5ms/step - loss: 0.1234 - accuracy: 0.9489 - val_loss: 0.4346 - val_accuracy: 0.8918\n",
      "Epoch 14/30\n",
      "7352/7352 [==============================] - 38s 5ms/step - loss: 0.1308 - accuracy: 0.9468 - val_loss: 0.4667 - val_accuracy: 0.9101\n",
      "Epoch 15/30\n",
      "7352/7352 [==============================] - 37s 5ms/step - loss: 0.1303 - accuracy: 0.9489 - val_loss: 0.6881 - val_accuracy: 0.8829\n",
      "Epoch 16/30\n",
      "7352/7352 [==============================] - 38s 5ms/step - loss: 0.1226 - accuracy: 0.9513 - val_loss: 0.2582 - val_accuracy: 0.9284\n",
      "Epoch 17/30\n",
      "7352/7352 [==============================] - 38s 5ms/step - loss: 0.1167 - accuracy: 0.9517 - val_loss: 0.8566 - val_accuracy: 0.8721\n",
      "Epoch 18/30\n",
      "7352/7352 [==============================] - 38s 5ms/step - loss: 0.1176 - accuracy: 0.9516 - val_loss: 0.4612 - val_accuracy: 0.9158\n",
      "Epoch 19/30\n",
      "7352/7352 [==============================] - 37s 5ms/step - loss: 0.1120 - accuracy: 0.9521 - val_loss: 0.2849 - val_accuracy: 0.9175\n",
      "Epoch 20/30\n",
      "7352/7352 [==============================] - 37s 5ms/step - loss: 0.1117 - accuracy: 0.9531 - val_loss: 0.3404 - val_accuracy: 0.9172\n",
      "Epoch 21/30\n",
      "7352/7352 [==============================] - 38s 5ms/step - loss: 0.1187 - accuracy: 0.9540 - val_loss: 0.4385 - val_accuracy: 0.9175\n",
      "Epoch 22/30\n",
      "7352/7352 [==============================] - 38s 5ms/step - loss: 0.1775 - accuracy: 0.9353 - val_loss: 0.3127 - val_accuracy: 0.9057\n",
      "Epoch 23/30\n",
      "7352/7352 [==============================] - 37s 5ms/step - loss: 0.1200 - accuracy: 0.9527 - val_loss: 0.2663 - val_accuracy: 0.9250\n",
      "Epoch 24/30\n",
      "7352/7352 [==============================] - 38s 5ms/step - loss: 0.1089 - accuracy: 0.9558 - val_loss: 0.3201 - val_accuracy: 0.9260\n",
      "Epoch 25/30\n",
      "7352/7352 [==============================] - 38s 5ms/step - loss: 0.1117 - accuracy: 0.9550 - val_loss: 0.3788 - val_accuracy: 0.9148\n",
      "Epoch 26/30\n",
      "7352/7352 [==============================] - 38s 5ms/step - loss: 0.1132 - accuracy: 0.9561 - val_loss: 0.2698 - val_accuracy: 0.9141\n",
      "Epoch 27/30\n",
      "7352/7352 [==============================] - 67s 9ms/step - loss: 0.0961 - accuracy: 0.9593 - val_loss: 0.3632 - val_accuracy: 0.9199\n",
      "Epoch 28/30\n",
      "7352/7352 [==============================] - 87s 12ms/step - loss: 0.1096 - accuracy: 0.9551 - val_loss: 0.2943 - val_accuracy: 0.9240\n",
      "Epoch 29/30\n",
      "7352/7352 [==============================] - 88s 12ms/step - loss: 0.1104 - accuracy: 0.9574 - val_loss: 0.4500 - val_accuracy: 0.9097\n",
      "Epoch 30/30\n",
      "7352/7352 [==============================] - 85s 12ms/step - loss: 0.1074 - accuracy: 0.9585 - val_loss: 0.3736 - val_accuracy: 0.9291\n"
     ]
    },
    {
     "data": {
      "text/plain": [
       "<keras.callbacks.callbacks.History at 0x208e78c6d08>"
      ]
     },
     "execution_count": 24,
     "metadata": {},
     "output_type": "execute_result"
    }
   ],
   "source": [
    "# Training the model\n",
    "model.fit(X_train,\n",
    "          Y_train,\n",
    "          batch_size=batch_size,\n",
    "          validation_data=(X_test, Y_test),\n",
    "          epochs=epochs)"
   ]
  },
  {
   "cell_type": "code",
   "execution_count": 25,
   "metadata": {},
   "outputs": [
    {
     "name": "stdout",
     "output_type": "stream",
     "text": [
      "Pred                LAYING  SITTING  STANDING  WALKING  WALKING_DOWNSTAIRS  \\\n",
      "True                                                                         \n",
      "LAYING                 537        0         0        0                   0   \n",
      "SITTING                 11      396        82        0                   0   \n",
      "STANDING                 0       71       455        1                   0   \n",
      "WALKING                  0        0         0      465                  20   \n",
      "WALKING_DOWNSTAIRS       0        0         0        0                 419   \n",
      "WALKING_UPSTAIRS         0        1         0        4                   0   \n",
      "\n",
      "Pred                WALKING_UPSTAIRS  \n",
      "True                                  \n",
      "LAYING                             0  \n",
      "SITTING                            2  \n",
      "STANDING                           5  \n",
      "WALKING                           11  \n",
      "WALKING_DOWNSTAIRS                 1  \n",
      "WALKING_UPSTAIRS                 466  \n"
     ]
    }
   ],
   "source": [
    "# Confusion Matrix\n",
    "print(confusion_matrix(Y_test, model.predict(X_test)))"
   ]
  },
  {
   "cell_type": "code",
   "execution_count": 26,
   "metadata": {},
   "outputs": [
    {
     "name": "stdout",
     "output_type": "stream",
     "text": [
      "2947/2947 [==============================] - 7s 2ms/step\n"
     ]
    }
   ],
   "source": [
    "score = model.evaluate(X_test, Y_test)"
   ]
  },
  {
   "cell_type": "code",
   "execution_count": 27,
   "metadata": {},
   "outputs": [
    {
     "data": {
      "text/plain": [
       "[0.3735906118126859, 0.9290804266929626]"
      ]
     },
     "execution_count": 27,
     "metadata": {},
     "output_type": "execute_result"
    }
   ],
   "source": [
    "score"
   ]
  }
 ],
 "metadata": {
  "kernelspec": {
   "display_name": "Python 3",
   "language": "python",
   "name": "python3"
  },
  "language_info": {
   "codemirror_mode": {
    "name": "ipython",
    "version": 3
   },
   "file_extension": ".py",
   "mimetype": "text/x-python",
   "name": "python",
   "nbconvert_exporter": "python",
   "pygments_lexer": "ipython3",
   "version": "3.7.4"
  }
 },
 "nbformat": 4,
 "nbformat_minor": 2
}
